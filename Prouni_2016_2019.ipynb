{
  "nbformat": 4,
  "nbformat_minor": 0,
  "metadata": {
    "colab": {
      "provenance": [],
      "include_colab_link": true
    },
    "kernelspec": {
      "name": "python3",
      "display_name": "Python 3"
    },
    "language_info": {
      "name": "python"
    }
  },
  "cells": [
    {
      "cell_type": "markdown",
      "metadata": {
        "id": "view-in-github",
        "colab_type": "text"
      },
      "source": [
        "<a href=\"https://colab.research.google.com/github/Danitlopes/Koru_data_drive_insights/blob/main/Prouni_2016_2019.ipynb\" target=\"_parent\"><img src=\"https://colab.research.google.com/assets/colab-badge.svg\" alt=\"Open In Colab\"/></a>"
      ]
    },
    {
      "cell_type": "code",
      "source": [
        "#INSTALANDO BIBLIOTECAS\n",
        "%pip install pandas\n",
        "%pip install matplotlib"
      ],
      "metadata": {
        "id": "JX1KHtTJL9zb",
        "colab": {
          "base_uri": "https://localhost:8080/"
        },
        "outputId": "37a6e8c1-91a5-41ab-bd4e-5d3a095b2698"
      },
      "execution_count": 14,
      "outputs": [
        {
          "output_type": "stream",
          "name": "stdout",
          "text": [
            "Requirement already satisfied: pandas in /usr/local/lib/python3.12/dist-packages (2.2.2)\n",
            "Requirement already satisfied: numpy>=1.26.0 in /usr/local/lib/python3.12/dist-packages (from pandas) (2.0.2)\n",
            "Requirement already satisfied: python-dateutil>=2.8.2 in /usr/local/lib/python3.12/dist-packages (from pandas) (2.9.0.post0)\n",
            "Requirement already satisfied: pytz>=2020.1 in /usr/local/lib/python3.12/dist-packages (from pandas) (2025.2)\n",
            "Requirement already satisfied: tzdata>=2022.7 in /usr/local/lib/python3.12/dist-packages (from pandas) (2025.2)\n",
            "Requirement already satisfied: six>=1.5 in /usr/local/lib/python3.12/dist-packages (from python-dateutil>=2.8.2->pandas) (1.17.0)\n",
            "Requirement already satisfied: matplotlib in /usr/local/lib/python3.12/dist-packages (3.10.0)\n",
            "Requirement already satisfied: contourpy>=1.0.1 in /usr/local/lib/python3.12/dist-packages (from matplotlib) (1.3.3)\n",
            "Requirement already satisfied: cycler>=0.10 in /usr/local/lib/python3.12/dist-packages (from matplotlib) (0.12.1)\n",
            "Requirement already satisfied: fonttools>=4.22.0 in /usr/local/lib/python3.12/dist-packages (from matplotlib) (4.60.1)\n",
            "Requirement already satisfied: kiwisolver>=1.3.1 in /usr/local/lib/python3.12/dist-packages (from matplotlib) (1.4.9)\n",
            "Requirement already satisfied: numpy>=1.23 in /usr/local/lib/python3.12/dist-packages (from matplotlib) (2.0.2)\n",
            "Requirement already satisfied: packaging>=20.0 in /usr/local/lib/python3.12/dist-packages (from matplotlib) (25.0)\n",
            "Requirement already satisfied: pillow>=8 in /usr/local/lib/python3.12/dist-packages (from matplotlib) (11.3.0)\n",
            "Requirement already satisfied: pyparsing>=2.3.1 in /usr/local/lib/python3.12/dist-packages (from matplotlib) (3.2.5)\n",
            "Requirement already satisfied: python-dateutil>=2.7 in /usr/local/lib/python3.12/dist-packages (from matplotlib) (2.9.0.post0)\n",
            "Requirement already satisfied: six>=1.5 in /usr/local/lib/python3.12/dist-packages (from python-dateutil>=2.7->matplotlib) (1.17.0)\n"
          ]
        }
      ]
    },
    {
      "cell_type": "code",
      "source": [
        "#IMPORTANDO BIBLIOTECAS\n",
        "import pandas as pd\n",
        "import numpy as np\n",
        "import matplotlib.pyplot as plt"
      ],
      "metadata": {
        "id": "HXCZ5_hRMLYq"
      },
      "execution_count": 15,
      "outputs": []
    },
    {
      "cell_type": "markdown",
      "source": [
        "# Exploração e Limpeza da Base"
      ],
      "metadata": {
        "id": "ZJrjbknvfa6q"
      }
    },
    {
      "cell_type": "code",
      "source": [
        "#Imprimindo cabeçalho, forma, colunas e tipos para entender melhor a composição da base\n",
        "df = pd.read_csv('pda-prouni-2016-2019.csv',  encoding='utf-8-sig', sep=';')\n",
        "print(df.head())\n",
        "print(df.shape)\n",
        "print(df.columns)\n",
        "print(df.dtypes)"
      ],
      "metadata": {
        "colab": {
          "base_uri": "https://localhost:8080/"
        },
        "id": "seyGeTKBMIJc",
        "outputId": "9fbe6ffb-3b0a-4927-e1f7-6736fbeeab6d"
      },
      "execution_count": 38,
      "outputs": [
        {
          "output_type": "stream",
          "name": "stdout",
          "text": [
            "   ANO_CONCESSAO_BOLSA  CODIGO_EMEC_IES_BOLSA  \\\n",
            "0                 2016                     20   \n",
            "1                 2016                     20   \n",
            "2                 2016                     20   \n",
            "3                 2016                     20   \n",
            "4                 2016                    423   \n",
            "\n",
            "                                      NOME_IES_BOLSA         TIPO_BOLSA  \\\n",
            "0                        UNIVERSIDADE DE PASSO FUNDO  BOLSA PARCIAL 50%   \n",
            "1                        UNIVERSIDADE DE PASSO FUNDO     BOLSA INTEGRAL   \n",
            "2                        UNIVERSIDADE DE PASSO FUNDO  BOLSA PARCIAL 50%   \n",
            "3                        UNIVERSIDADE DE PASSO FUNDO  BOLSA PARCIAL 50%   \n",
            "4  UNIVERSIDADE REGIONAL INTEGRADA DO ALTO URUGUA...  BOLSA PARCIAL 50%   \n",
            "\n",
            "  MODALIDADE_ENSINO_BOLSA    NOME_CURSO_BOLSA NOME_TURNO_CURSO_BOLSA  \\\n",
            "0              PRESENCIAL       Administração                Noturno   \n",
            "1              PRESENCIAL       Administração                Noturno   \n",
            "2              PRESENCIAL       Administração                Noturno   \n",
            "3              PRESENCIAL       Administração                Noturno   \n",
            "4              PRESENCIAL  Ciências Contábeis                Noturno   \n",
            "\n",
            "  CPF_BENEFICIARIO_BOLSA SEXO_BENEFICIARIO_BOLSA RACA_BENEFICIARIO_BOLSA  \\\n",
            "0            ***847010**                Feminino                  Branca   \n",
            "1            ***377850**                Feminino                  Branca   \n",
            "2            ***266150**               Masculino                  Branca   \n",
            "3            ***408700**                Feminino                  Branca   \n",
            "4            ***560300**               Masculino                  Branca   \n",
            "\n",
            "  DT_NASCIMENTO_BENEFICIARIO BENEFICIARIO_DEFICIENTE_FISICO  \\\n",
            "0                 06-12-1995                            NÃO   \n",
            "1                 08-08-1990                            NÃO   \n",
            "2                 08-03-1999                            NÃO   \n",
            "3                 24-04-1997                            NÃO   \n",
            "4                 07-05-1994                            NÃO   \n",
            "\n",
            "  REGIAO_BENEFICIARIO_BOLSA SIGLA_UF_BENEFICIARIO_BOLSA  \\\n",
            "0                       SUL                          RS   \n",
            "1                       SUL                          RS   \n",
            "2                       SUL                          RS   \n",
            "3                       SUL                          RS   \n",
            "4                       SUL                          RS   \n",
            "\n",
            "  MUNICIPIO_BENEFICIARIO_BOLSA  \n",
            "0                     SOLEDADE  \n",
            "1                     SOLEDADE  \n",
            "2                     SOLEDADE  \n",
            "3                     SOLEDADE  \n",
            "4                      ERECHIM  \n",
            "(942485, 15)\n",
            "Index(['ANO_CONCESSAO_BOLSA', 'CODIGO_EMEC_IES_BOLSA', 'NOME_IES_BOLSA',\n",
            "       'TIPO_BOLSA', 'MODALIDADE_ENSINO_BOLSA', 'NOME_CURSO_BOLSA',\n",
            "       'NOME_TURNO_CURSO_BOLSA', 'CPF_BENEFICIARIO_BOLSA',\n",
            "       'SEXO_BENEFICIARIO_BOLSA', 'RACA_BENEFICIARIO_BOLSA',\n",
            "       'DT_NASCIMENTO_BENEFICIARIO', 'BENEFICIARIO_DEFICIENTE_FISICO',\n",
            "       'REGIAO_BENEFICIARIO_BOLSA', 'SIGLA_UF_BENEFICIARIO_BOLSA',\n",
            "       'MUNICIPIO_BENEFICIARIO_BOLSA'],\n",
            "      dtype='object')\n",
            "ANO_CONCESSAO_BOLSA                int64\n",
            "CODIGO_EMEC_IES_BOLSA              int64\n",
            "NOME_IES_BOLSA                    object\n",
            "TIPO_BOLSA                        object\n",
            "MODALIDADE_ENSINO_BOLSA           object\n",
            "NOME_CURSO_BOLSA                  object\n",
            "NOME_TURNO_CURSO_BOLSA            object\n",
            "CPF_BENEFICIARIO_BOLSA            object\n",
            "SEXO_BENEFICIARIO_BOLSA           object\n",
            "RACA_BENEFICIARIO_BOLSA           object\n",
            "DT_NASCIMENTO_BENEFICIARIO        object\n",
            "BENEFICIARIO_DEFICIENTE_FISICO    object\n",
            "REGIAO_BENEFICIARIO_BOLSA         object\n",
            "SIGLA_UF_BENEFICIARIO_BOLSA       object\n",
            "MUNICIPIO_BENEFICIARIO_BOLSA      object\n",
            "dtype: object\n"
          ]
        }
      ]
    },
    {
      "cell_type": "markdown",
      "source": [
        "O dataset contém 942.485 registros e 15 colunas que abrangem dados sobre bolsas do prouni, beneficiários, instituições, localização, entre outros. A análise dos tipos e nomes das colunas permitiu compreender a estrutura dos dados, destacando a diversidade de informações disponíveis e a necessidade de tratamentos específicos para cada variável em análises futuras."
      ],
      "metadata": {
        "id": "jkJz1ghOfjn2"
      }
    },
    {
      "cell_type": "code",
      "source": [
        "#Imprimindo a quantidade de bolsas concedidas por ano\n",
        "bolsas_ano = df['ANO_CONCESSAO_BOLSA'].value_counts().sort_index()\n",
        "print(bolsas_ano)"
      ],
      "metadata": {
        "id": "cHEgJKc3RTkm",
        "colab": {
          "base_uri": "https://localhost:8080/"
        },
        "outputId": "0b7ff836-e607-494c-abc1-0fe9bd715e3f"
      },
      "execution_count": 39,
      "outputs": [
        {
          "output_type": "stream",
          "name": "stdout",
          "text": [
            "ANO_CONCESSAO_BOLSA\n",
            "2016    239262\n",
            "2017    236636\n",
            "2018    241032\n",
            "2019    225555\n",
            "Name: count, dtype: int64\n"
          ]
        }
      ]
    },
    {
      "cell_type": "markdown",
      "source": [
        "Os valores anuais de concessão de bolsas entre 2016 e 2019 apresentam quantidades próximas, sem grandes variações aparentes. Esse padrão sugere que o volume de bolsas se manteve relativamente constante nesse período, mas análises adicionais seriam necessárias para confirmar quaisquer tendências ou causas."
      ],
      "metadata": {
        "id": "JjAYUhyEyOBp"
      }
    },
    {
      "cell_type": "code",
      "source": [
        "#Verificando a quantidade de bolsas de cada curso\n",
        "bolsas_curso = df['NOME_CURSO_BOLSA'].value_counts().sort_index()\n",
        "print(bolsas_curso)"
      ],
      "metadata": {
        "id": "wikRo1z2focl",
        "colab": {
          "base_uri": "https://localhost:8080/"
        },
        "outputId": "7d2dbe9d-9f72-4275-b032-a7333e2a5dfe"
      },
      "execution_count": 40,
      "outputs": [
        {
          "output_type": "stream",
          "name": "stdout",
          "text": [
            "NOME_CURSO_BOLSA\n",
            "  Tradução E Interpretação               2\n",
            " Engenharia Aeronáutica E Espaço        20\n",
            " Engenharia Biomédica                   13\n",
            " Engenharia Civil E Ambiental            7\n",
            " Engenharia Da Produção E Qualidade      4\n",
            "                                      ... \n",
            "Visagismo E Terapias Capilares          15\n",
            "Viticultura E Enologia                   3\n",
            "Web Design                              15\n",
            "Zootecnia                              460\n",
            "Óptica E Optometria                     39\n",
            "Name: count, Length: 2286, dtype: int64\n"
          ]
        }
      ]
    },
    {
      "cell_type": "code",
      "source": [
        "#Analisando se há valores nulos em cada coluna\n",
        "for coluna, valores in df.items():\n",
        "    print(f\"Coluna: {coluna}\")\n",
        "    print(\"Nulos: \"+ str(df[coluna].isnull().sum())+\"\\n\")"
      ],
      "metadata": {
        "id": "jtmJvTh2hTYS",
        "colab": {
          "base_uri": "https://localhost:8080/"
        },
        "outputId": "8451fddb-f419-4729-b429-d7fb16ecbcab"
      },
      "execution_count": 41,
      "outputs": [
        {
          "output_type": "stream",
          "name": "stdout",
          "text": [
            "Coluna: ANO_CONCESSAO_BOLSA\n",
            "Nulos: 0\n",
            "\n",
            "Coluna: CODIGO_EMEC_IES_BOLSA\n",
            "Nulos: 0\n",
            "\n",
            "Coluna: NOME_IES_BOLSA\n",
            "Nulos: 0\n",
            "\n",
            "Coluna: TIPO_BOLSA\n",
            "Nulos: 0\n",
            "\n",
            "Coluna: MODALIDADE_ENSINO_BOLSA\n",
            "Nulos: 0\n",
            "\n",
            "Coluna: NOME_CURSO_BOLSA\n",
            "Nulos: 44\n",
            "\n",
            "Coluna: NOME_TURNO_CURSO_BOLSA\n",
            "Nulos: 0\n",
            "\n",
            "Coluna: CPF_BENEFICIARIO_BOLSA\n",
            "Nulos: 0\n",
            "\n",
            "Coluna: SEXO_BENEFICIARIO_BOLSA\n",
            "Nulos: 0\n",
            "\n",
            "Coluna: RACA_BENEFICIARIO_BOLSA\n",
            "Nulos: 0\n",
            "\n",
            "Coluna: DT_NASCIMENTO_BENEFICIARIO\n",
            "Nulos: 0\n",
            "\n",
            "Coluna: BENEFICIARIO_DEFICIENTE_FISICO\n",
            "Nulos: 0\n",
            "\n",
            "Coluna: REGIAO_BENEFICIARIO_BOLSA\n",
            "Nulos: 0\n",
            "\n",
            "Coluna: SIGLA_UF_BENEFICIARIO_BOLSA\n",
            "Nulos: 0\n",
            "\n",
            "Coluna: MUNICIPIO_BENEFICIARIO_BOLSA\n",
            "Nulos: 0\n",
            "\n"
          ]
        }
      ]
    },
    {
      "cell_type": "markdown",
      "source": [
        "Na análise das colunas do DataFrame, foi identificado que a coluna NOME_CURSO_BOLSA possui 44 valores nulos, enquanto as demais colunas não apresentam dados ausentes. Essa informação é importante para decisões futuras sobre limpeza ou tratamento dos dados, garantindo a qualidade das análises subsequentes."
      ],
      "metadata": {
        "id": "akf7Y4UUxK8p"
      }
    },
    {
      "cell_type": "code",
      "source": [
        "#Removendo os valores nulos da coluna de curso\n",
        "df = df.dropna(subset=['NOME_CURSO_BOLSA'])\n",
        "print(df.isnull().sum())"
      ],
      "metadata": {
        "id": "egqwGFwKjEn4",
        "colab": {
          "base_uri": "https://localhost:8080/"
        },
        "outputId": "d0e3fd96-8a2f-4fd9-c715-630d1e4badb3"
      },
      "execution_count": 42,
      "outputs": [
        {
          "output_type": "stream",
          "name": "stdout",
          "text": [
            "ANO_CONCESSAO_BOLSA               0\n",
            "CODIGO_EMEC_IES_BOLSA             0\n",
            "NOME_IES_BOLSA                    0\n",
            "TIPO_BOLSA                        0\n",
            "MODALIDADE_ENSINO_BOLSA           0\n",
            "NOME_CURSO_BOLSA                  0\n",
            "NOME_TURNO_CURSO_BOLSA            0\n",
            "CPF_BENEFICIARIO_BOLSA            0\n",
            "SEXO_BENEFICIARIO_BOLSA           0\n",
            "RACA_BENEFICIARIO_BOLSA           0\n",
            "DT_NASCIMENTO_BENEFICIARIO        0\n",
            "BENEFICIARIO_DEFICIENTE_FISICO    0\n",
            "REGIAO_BENEFICIARIO_BOLSA         0\n",
            "SIGLA_UF_BENEFICIARIO_BOLSA       0\n",
            "MUNICIPIO_BENEFICIARIO_BOLSA      0\n",
            "dtype: int64\n"
          ]
        }
      ]
    },
    {
      "cell_type": "markdown",
      "source": [
        "Para garantir a qualidade e confiabilidade das análises, foram removidos os 44 registros com valores nulos na coluna NOME_CURSO_BOLSA, já que a ausência dessa informação compromete a interpretação dos dados relacionados aos cursos."
      ],
      "metadata": {
        "id": "MFlJommxxjw5"
      }
    },
    {
      "cell_type": "code",
      "source": [
        "# Contar o número de beneficiários por faixa etária\n",
        "df[\"DT_NASCIMENTO_BENEFICIARIO\"] = pd.to_datetime(\n",
        "    df[\"DT_NASCIMENTO_BENEFICIARIO\"], errors=\"coerce\", dayfirst=True\n",
        ")\n",
        "\n",
        "# Calcular a idade com base no ano de concessão da bolsa\n",
        "df[\"IDADE\"] = df[\"ANO_CONCESSAO_BOLSA\"] - df[\"DT_NASCIMENTO_BENEFICIARIO\"].dt.year\n",
        "\n",
        "# Criar faixas etárias\n",
        "bins = [0, 17, 20, 25, 30, 40, 50, 60, 100]\n",
        "labels = [\"≤17\", \"18–20\", \"21–25\", \"26–30\", \"31–40\", \"41–50\", \"51–60\", \"60+\"]\n",
        "df[\"FAIXA_ETARIA\"] = pd.cut(df[\"IDADE\"], bins=bins, labels=labels, right=True)\n",
        "\n",
        "# Contar o número de beneficiários por faixa etária\n",
        "faixa_counts = df[\"FAIXA_ETARIA\"].value_counts().sort_index()\n",
        "print(faixa_counts)"
      ],
      "metadata": {
        "id": "1gErZUlGm_Wo",
        "colab": {
          "base_uri": "https://localhost:8080/"
        },
        "outputId": "bbf234be-0b1e-4b53-cfd5-4730f38e7918"
      },
      "execution_count": 43,
      "outputs": [
        {
          "output_type": "stream",
          "name": "stdout",
          "text": [
            "FAIXA_ETARIA\n",
            "≤17        2793\n",
            "18–20    102062\n",
            "21–25     70157\n",
            "26–30     30536\n",
            "31–40     25095\n",
            "41–50      7055\n",
            "51–60      1407\n",
            "60+         113\n",
            "Name: count, dtype: int64\n"
          ]
        }
      ]
    },
    {
      "cell_type": "markdown",
      "source": [
        "A análise da faixa etária revela que a maioria dos beneficiários do Prouni tem entre 18 e 25 anos, concentrando cerca de 70% dos participantes.\n",
        "Esses dados confirmam que o programa cumpre fortemente seu papel de facilitar o acesso ao ensino superior para jovens recém-egressos do ensino médio.\n",
        "\n",
        "O segundo grupo mais representativo está entre 26 e 40 anos, o que indica uma presença relevante de adultos que retomam os estudos — possivelmente buscando qualificação profissional ou uma segunda graduação.\n",
        "\n",
        "Já as faixas acima de 40 anos (principalmente 50+) possuem baixa participação, sugerindo que há barreiras de acesso para adultos mais velhos, como dificuldades financeiras, familiares ou falta de incentivo para o retorno aos estudos."
      ],
      "metadata": {
        "id": "M0Yhrw1TrYWg"
      }
    },
    {
      "cell_type": "code",
      "metadata": {
        "id": "3041a2a5",
        "colab": {
          "base_uri": "https://localhost:8080/"
        },
        "outputId": "ee3416ab-17b3-482e-decc-4c3f6a11041a"
      },
      "source": [
        "# Remover os valores nulos da coluna de curso\n",
        "df = df.dropna(subset=['NOME_CURSO_BOLSA'])\n",
        "\n",
        "# Padronizar a coluna de sexo\n",
        "df[\"SEXO_BENEFICIARIO_BOLSA\"] = df[\"SEXO_BENEFICIARIO_BOLSA\"].str.strip().str.capitalize()\n",
        "\n",
        "sex_mapping = {'F': 'Feminino', 'M': 'Masculino'}\n",
        "df['SEXO_BENEFICIARIO_BOLSA'] = df['SEXO_BENEFICIARIO_BOLSA'].replace(sex_mapping)\n",
        "\n",
        "# Contar o número de beneficiários por sexo\n",
        "sexo_counts = df[\"SEXO_BENEFICIARIO_BOLSA\"].value_counts()\n",
        "sexo_percent = (sexo_counts / sexo_counts.sum()) * 100\n",
        "print(\"Distribuição por Sexo (Prouni 2016–2019):\\n\")\n",
        "print(pd.concat([sexo_counts, sexo_percent.round(2)], axis=1, keys=[\"Quantidade\", \"Percentual (%)\"]))\n",
        "\n",
        "print(\"\\nValores únicos na coluna SEXO_BENEFICIARIO_BOLSA após padronização:\")\n",
        "print(df['SEXO_BENEFICIARIO_BOLSA'].unique())"
      ],
      "execution_count": 44,
      "outputs": [
        {
          "output_type": "stream",
          "name": "stdout",
          "text": [
            "Distribuição por Sexo (Prouni 2016–2019):\n",
            "\n",
            "                         Quantidade  Percentual (%)\n",
            "SEXO_BENEFICIARIO_BOLSA                            \n",
            "Feminino                     527555           55.98\n",
            "Masculino                    414886           44.02\n",
            "\n",
            "Valores únicos na coluna SEXO_BENEFICIARIO_BOLSA após padronização:\n",
            "['Feminino' 'Masculino']\n"
          ]
        }
      ]
    },
    {
      "cell_type": "markdown",
      "source": [
        "A análise da variável sexo mostra uma maior participação feminina entre os beneficiários do Prouni.\n",
        "Historicamente, o programa tem registrado um número mais alto de mulheres bolsistas, refletindo uma tendência nacional de maior presença feminina no ensino superior brasileiro.\n",
        "\n",
        "Esse resultado sugere que as mulheres estão aproveitando mais as oportunidades educacionais oferecidas por políticas públicas de acesso à universidade, consolidando um avanço importante na igualdade de gênero na educação.\n",
        "\n",
        "Por outro lado, a menor participação masculina pode estar relacionada a fatores como:\n",
        "\n",
        "Inserção precoce no mercado de trabalho;\n",
        "\n",
        "*   Inserção precoce no mercado de trabalho;\n",
        "*   Menor incentivo educacional em alguns contextos sociais;\n",
        "*   Diferenças de interesses ou escolha profissional."
      ],
      "metadata": {
        "id": "h3TTJ2lnsSTJ"
      }
    },
    {
      "cell_type": "code",
      "source": [
        "# Padronizar a coluna de raça/cor\n",
        "df[\"RACA_BENEFICIARIO_BOLSA\"] = df[\"RACA_BENEFICIARIO_BOLSA\"].str.strip().str.capitalize()\n",
        "\n",
        "# Contar o número de beneficiários por raça/cor\n",
        "raca_counts = df[\"RACA_BENEFICIARIO_BOLSA\"].value_counts()\n",
        "raca_percent = (raca_counts / raca_counts.sum()) * 100\n",
        "print(\"Distribuição por Raça/Cor (Prouni 2016–2019):\\n\")\n",
        "print(pd.concat([raca_counts, raca_percent.round(2)], axis=1, keys=[\"Quantidade\", \"Percentual (%)\"]))\n"
      ],
      "metadata": {
        "id": "Eqw3Wfa8s4zl",
        "colab": {
          "base_uri": "https://localhost:8080/"
        },
        "outputId": "42fbbc16-182d-46fa-8f4f-709ab35ebcd8"
      },
      "execution_count": 45,
      "outputs": [
        {
          "output_type": "stream",
          "name": "stdout",
          "text": [
            "Distribuição por Raça/Cor (Prouni 2016–2019):\n",
            "\n",
            "                         Quantidade  Percentual (%)\n",
            "RACA_BENEFICIARIO_BOLSA                            \n",
            "Parda                        432410           45.88\n",
            "Branca                       371378           39.41\n",
            "Preta                        121437           12.89\n",
            "Amarela                       16384            1.74\n",
            "Indígena                        786            0.08\n",
            "Não informada                    46            0.00\n"
          ]
        }
      ]
    },
    {
      "cell_type": "markdown",
      "source": [
        "A análise da variável raça/cor evidencia a importância do Prouni na promoção da diversidade racial no ensino superior.\n",
        "Os dados mostram que, embora a população branca ainda represente a maior parcela dos beneficiários, há uma presença significativa de estudantes pretos, pardos e indígenas, indicando avanços concretos na inclusão social e racial.\n",
        "\n",
        "Essa diversidade reflete o impacto das políticas afirmativas e de cotas, que têm contribuído para reduzir desigualdades históricas no acesso à educação.\n",
        "No entanto, a diferença percentual ainda é expressiva, o que sugere que grupos racialmente minorizados ainda enfrentam barreiras estruturais — como renda, localização geográfica e acesso a escolas de qualidade — que dificultam a entrada e a permanência na universidade."
      ],
      "metadata": {
        "id": "JiuT-AUewH6U"
      }
    },
    {
      "cell_type": "code",
      "source": [
        "# Padronizar a coluna de região\n",
        "df[\"REGIAO_BENEFICIARIO_BOLSA\"] = df[\"REGIAO_BENEFICIARIO_BOLSA\"].str.strip().str.upper()\n",
        "\n",
        "# Contar o número de beneficiários por região\n",
        "regiao_counts = df[\"REGIAO_BENEFICIARIO_BOLSA\"].value_counts()\n",
        "regiao_percent = (regiao_counts / regiao_counts.sum()) * 100\n",
        "print(\"Distribuição por Região (Prouni 2016–2019):\\n\")\n",
        "print(pd.concat([regiao_counts, regiao_percent.round(2)], axis=1, keys=[\"Quantidade\", \"Percentual (%)\"]))"
      ],
      "metadata": {
        "id": "qs3OsnpZwKxb",
        "colab": {
          "base_uri": "https://localhost:8080/"
        },
        "outputId": "e9d91d3b-9140-4d66-b36e-76c82c3e17a8"
      },
      "execution_count": 46,
      "outputs": [
        {
          "output_type": "stream",
          "name": "stdout",
          "text": [
            "Distribuição por Região (Prouni 2016–2019):\n",
            "\n",
            "                           Quantidade  Percentual (%)\n",
            "REGIAO_BENEFICIARIO_BOLSA                            \n",
            "SUDESTE                        420125           44.58\n",
            "NORDESTE                       200083           21.23\n",
            "SUL                            166509           17.67\n",
            "CENTRO-OESTE                    83644            8.88\n",
            "NORTE                           72080            7.65\n"
          ]
        }
      ]
    },
    {
      "cell_type": "markdown",
      "source": [
        "A análise regional mostra uma concentração expressiva de beneficiários nas regiões Sudeste e Nordeste, seguidas pelo Sul, Norte e Centro-Oeste.\n",
        "Essa distribuição está diretamente relacionada à densidade populacional e à concentração de instituições de ensino superior nessas regiões.\n",
        "\n",
        "O Sudeste, por abrigar os maiores centros urbanos e universitários do país, tende a concentrar mais bolsas.\n",
        "Já o Nordeste se destaca pela forte adesão ao programa, o que demonstra o impacto positivo do Prouni em regiões historicamente marcadas por maiores desigualdades socioeconômicas.\n",
        "\n",
        "Por outro lado, as regiões Norte e Centro-Oeste apresentam menor participação, o que pode estar ligado à disponibilidade limitada de instituições credenciadas e à dispersão geográfica das populações nessas áreas."
      ],
      "metadata": {
        "id": "_s86SmUcw3nA"
      }
    },
    {
      "cell_type": "code",
      "source": [
        "# Padronizar o texto\n",
        "df[\"TIPO_BOLSA\"] = df[\"TIPO_BOLSA\"].str.strip().str.upper()\n",
        "\n",
        "# Contar o número de beneficiários por tipo de bolsa\n",
        "bolsa_counts = df[\"TIPO_BOLSA\"].value_counts()\n",
        "bolsa_percent = (bolsa_counts / bolsa_counts.sum()) * 100\n",
        "\n",
        "# Exibir resultados\n",
        "print(\"Distribuição por Tipo de Bolsa (Prouni 2016–2019):\\n\")\n",
        "print(pd.concat([bolsa_counts, bolsa_percent.round(2)], axis=1, keys=[\"Quantidade\", \"Percentual (%)\"]))"
      ],
      "metadata": {
        "id": "L0ZD1kJCxcmj",
        "colab": {
          "base_uri": "https://localhost:8080/"
        },
        "outputId": "c7e495a8-3ab1-44ae-efb5-59725a1cbbba"
      },
      "execution_count": 47,
      "outputs": [
        {
          "output_type": "stream",
          "name": "stdout",
          "text": [
            "Distribuição por Tipo de Bolsa (Prouni 2016–2019):\n",
            "\n",
            "                   Quantidade  Percentual (%)\n",
            "TIPO_BOLSA                                   \n",
            "BOLSA INTEGRAL         641786            68.1\n",
            "BOLSA PARCIAL 50%      300655            31.9\n"
          ]
        }
      ]
    },
    {
      "cell_type": "markdown",
      "source": [
        "A análise da variável TIPO_BOLSA mostra que o Prouni desempenha papel essencial na democratização do ensino superior privado no Brasil, atendendo dois grandes públicos:\n",
        "\n",
        "1. Estudantes de baixa renda, que recebem bolsa integral (100%);\n",
        "\n",
        "\n",
        "2. Estudantes de renda intermediária, que recebem bolsa parcial (50%).\n",
        "\n",
        "\n",
        "\n",
        "Nos dados analisados, observa-se que a maior parte das bolsas é integral, o que reforça o foco social do programa em atender estudantes com maior vulnerabilidade econômica. Essa predominância indica que o Prouni tem sido um instrumento eficaz para garantir o acesso de jovens de baixa renda à universidade, especialmente aqueles que dificilmente poderiam arcar com mensalidades, mesmo reduzidas.\n",
        "\n",
        "Já as bolsas parciais (50%), embora em menor número, também têm papel relevante: muitas vezes funcionam como complemento para famílias com renda um pouco acima do limite de vulnerabilidade, mas que ainda assim precisam de apoio para custear o ensino superior.\n"
      ],
      "metadata": {
        "id": "MBtwf4uP1S9o"
      }
    },
    {
      "cell_type": "code",
      "metadata": {
        "colab": {
          "base_uri": "https://localhost:8080/"
        },
        "id": "cfb809e0",
        "outputId": "5c653333-a557-4491-cf07-52ac3d9ece40"
      },
      "source": [
        "# Padronizar a coluna de modalidade de ensino\n",
        "df['MODALIDADE_ENSINO_BOLSA'] = df['MODALIDADE_ENSINO_BOLSA'].str.strip().str.upper()\n",
        "\n",
        "# Filtrar o DataFrame para incluir apenas bolsas na modalidade EAD\n",
        "bolsas_ead = df[df['MODALIDADE_ENSINO_BOLSA'].isin(['EDUCAÇÃO A DISTÂNCIA', 'EAD', 'Curso a Distancia'])]\n",
        "\n",
        "# Contar o número de bolsas EAD por ano\n",
        "ead_por_ano = bolsas_ead['ANO_CONCESSAO_BOLSA'].value_counts().sort_index()\n",
        "print(\"Quantidade de bolsas EAD concedidas por ano:\")\n",
        "print(ead_por_ano)"
      ],
      "execution_count": 48,
      "outputs": [
        {
          "output_type": "stream",
          "name": "stdout",
          "text": [
            "Quantidade de bolsas EAD concedidas por ano:\n",
            "ANO_CONCESSAO_BOLSA\n",
            "2016    47865\n",
            "2017    52239\n",
            "2018    57330\n",
            "2019    67250\n",
            "Name: count, dtype: int64\n"
          ]
        }
      ]
    },
    {
      "cell_type": "code",
      "metadata": {
        "colab": {
          "base_uri": "https://localhost:8080/"
        },
        "id": "123802f9",
        "outputId": "a356eea1-bdb5-4c08-8937-0cf54f47fa72"
      },
      "source": [
        "# Os valores únicos na coluna de modalidade de ensino\n",
        "print(\"Valores únicos na coluna MODALIDADE_ENSINO_BOLSA:\")\n",
        "print(df['MODALIDADE_ENSINO_BOLSA'].unique())\n",
        "\n",
        "print(\"\\nAnos presentes no DataFrame original:\")\n",
        "print(df['ANO_CONCESSAO_BOLSA'].unique())"
      ],
      "execution_count": 49,
      "outputs": [
        {
          "output_type": "stream",
          "name": "stdout",
          "text": [
            "Valores únicos na coluna MODALIDADE_ENSINO_BOLSA:\n",
            "['PRESENCIAL' 'EDUCAÇÃO A DISTÂNCIA' 'EAD']\n",
            "\n",
            "Anos presentes no DataFrame original:\n",
            "[2016 2017 2018 2019]\n"
          ]
        }
      ]
    },
    {
      "cell_type": "markdown",
      "source": [
        " A quantidade de bolsas Prouni na modalidade Educação a Distância (EAD) apresentou um crescimento constante e significativo no período de 2016 a 2019. O número de bolsas concedidas em EAD aumentou de 47.865 em 2016 para 67.250 em 2019.\n",
        "\n",
        "Esse aumento sugere uma maior popularização e expansão da modalidade de ensino a distância no Prouni ao longo desses anos, possivelmente impulsionada pela flexibilidade, menor custo percebido e maior oferta de cursos EAD pelas instituições. Isso demonstra que a modalidade a distância se tornou uma via cada vez mais relevante para o acesso ao ensino superior via Prouni no Brasil."
      ],
      "metadata": {
        "id": "y-dnDU4jAsKT"
      }
    }
  ]
}